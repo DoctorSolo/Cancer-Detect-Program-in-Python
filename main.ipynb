{
 "cells": [
  {
   "cell_type": "code",
   "execution_count": 1,
   "id": "2b236421",
   "metadata": {},
   "outputs": [],
   "source": [
    "from src.AI_Config_Class import AI_Config_Class"
   ]
  },
  {
   "cell_type": "code",
   "execution_count": 2,
   "id": "62d55f09",
   "metadata": {},
   "outputs": [
    {
     "name": "stdout",
     "output_type": "stream",
     "text": [
      "accuracy:  0.9649122807017544\n",
      "precision:  0.9534883720930233\n",
      "recall:  0.9534883720930233\n"
     ]
    }
   ],
   "source": [
    "AI_Config_Class().AI_Show_Result()"
   ]
  }
 ],
 "metadata": {
  "kernelspec": {
   "display_name": "Python 3",
   "language": "python",
   "name": "python3"
  },
  "language_info": {
   "codemirror_mode": {
    "name": "ipython",
    "version": 3
   },
   "file_extension": ".py",
   "mimetype": "text/x-python",
   "name": "python",
   "nbconvert_exporter": "python",
   "pygments_lexer": "ipython3",
   "version": "3.10.18"
  }
 },
 "nbformat": 4,
 "nbformat_minor": 5
}
