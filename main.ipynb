{
 "cells": [
  {
   "cell_type": "code",
   "execution_count": null,
   "id": "2b236421",
   "metadata": {},
   "outputs": [],
   "source": [
    "from src.AI_Config_Class import AI_Config_Class"
   ]
  },
  {
   "cell_type": "code",
   "execution_count": null,
   "id": "2ca19d35",
   "metadata": {},
   "outputs": [],
   "source": [
    "Teste = AI_Config_Class()"
   ]
  },
  {
   "cell_type": "code",
   "execution_count": null,
   "id": "33091268",
   "metadata": {},
   "outputs": [],
   "source": [
    "Teste.data.head()"
   ]
  },
  {
   "cell_type": "code",
   "execution_count": null,
   "id": "62d55f09",
   "metadata": {},
   "outputs": [],
   "source": [
    "Teste.AI_Show_Result()"
   ]
  }
 ],
 "metadata": {
  "kernelspec": {
   "display_name": "Python 3",
   "language": "python",
   "name": "python3"
  },
  "language_info": {
   "codemirror_mode": {
    "name": "ipython",
    "version": 3
   },
   "file_extension": ".py",
   "mimetype": "text/x-python",
   "name": "python",
   "nbconvert_exporter": "python",
   "pygments_lexer": "ipython3",
   "version": "3.10.18"
  }
 },
 "nbformat": 4,
 "nbformat_minor": 5
}
